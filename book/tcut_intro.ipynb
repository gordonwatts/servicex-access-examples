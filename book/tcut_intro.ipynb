{
 "cells": [
  {
   "cell_type": "markdown",
   "metadata": {},
   "source": [
    "# TCut Hello World\n",
    "\n",
    "This will show you the simplest scripts to get data back from flat ROOT tuple files using `TCut` and `servicex` libraries.\n",
    "\n",
    "`TCut` library supports `ROOT` `TCut` syntax to perform a selection on a flat ROOT TTree.\n",
    "\n",
    "This tutorial assumes you have a properly configured `.servicex` file for an access to a ServiceX Uproot backend.\n",
    "\n",
    "Test setup: `servicex==2.1.1` and `tcut-to-qastle==0.4`"
   ]
  },
  {
   "cell_type": "code",
   "execution_count": 1,
   "metadata": {},
   "outputs": [],
   "source": [
    "from servicex import ServiceXDataset\n",
    "import tcut_to_qastle as tcut\n",
    "\n",
    "dataset_uproot = \"user.kchoi:user.kchoi.ttHML_80fb_ttbar\"\n",
    "query = tcut.translate('nominal','lep_Pt_1','lep_Pt_1>1000')\n",
    "sx_dataset = ServiceXDataset(dataset=dataset_uproot, backend_type='uproot')\n",
    "data = sx_dataset.get_data_awkward(query)"
   ]
  },
  {
   "cell_type": "code",
   "execution_count": 2,
   "metadata": {},
   "outputs": [
    {
     "data": {
      "text/plain": [
       "<ChunkedArray [29697.21 59942.164 18633.768 ... 22894.816 28860.709 179207.53] at 0x7ff7859c3150>"
      ]
     },
     "execution_count": 2,
     "metadata": {},
     "output_type": "execute_result"
    }
   ],
   "source": [
    "data['lep_Pt_1']"
   ]
  },
  {
   "cell_type": "code",
   "execution_count": 3,
   "metadata": {},
   "outputs": [
    {
     "data": {
      "text/plain": [
       "<Figure size 640x480 with 1 Axes>"
      ]
     },
     "metadata": {},
     "output_type": "display_data"
    }
   ],
   "source": [
    "import matplotlib.pyplot as plt\n",
    "plt.hist((data['lep_Pt_1']/1000.0).flatten(), bins=100)\n",
    "plt.yscale('log')\n",
    "plt.xlabel('Lepton 1 $p_T$ [GeV]')\n",
    "plt.show()"
   ]
  },
  {
   "cell_type": "markdown",
   "metadata": {},
   "source": [
    "### Line-by-line explination of the first cell\n",
    "\n",
    "- Line 1: The ServiceX frontend library to communicate with a ServiceX backend. \n",
    "- Line 2: The library to translate `ROOT` `TCut` syntax into qastle syntax.\n",
    "- Line 3: Blank line\n",
    "- Line 4: This is the dataset that we will be reading from. This must be a `rucio` dataset identifier (DID). In this case we are working with an ATLAS backend, and this is a flat root file in a user scope.\n",
    "- Line 5: Here you specify the name of input `TTree`, the list of branches (or columns) you want from the input `TTree`, and finally your selection (or filtering). \n",
    "- Line 6: Create `ServiceXDataset` with the dataset you want to process and the name of ServiceX backend type.\n",
    "- Line 7: \n",
    "    - Now make a request to deliver what you specified in the query in a format of `awkward` array.\n",
    "    - You can see two progress bars for the status of your request and downloading of outputs, respectively.\n",
    "\n",
    "### Other cells\n",
    "\n",
    "- The second cell simply shows the output from the request. A single column `lep_Pt_1` after the selection `lep_Pt_1 > 1000` is delivered.\n",
    "- The third cell plots the output array as a histogram."
   ]
  }
 ],
 "metadata": {
  "kernelspec": {
   "display_name": "Python 3",
   "language": "python",
   "name": "python3"
  },
  "language_info": {
   "codemirror_mode": {
    "name": "ipython",
    "version": 3
   },
   "file_extension": ".py",
   "mimetype": "text/x-python",
   "name": "python",
   "nbconvert_exporter": "python",
   "pygments_lexer": "ipython3",
   "version": "3.7.4"
  }
 },
 "nbformat": 4,
 "nbformat_minor": 4
}
